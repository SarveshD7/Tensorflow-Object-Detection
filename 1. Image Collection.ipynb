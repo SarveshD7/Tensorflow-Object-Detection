{
 "cells": [
  {
   "cell_type": "markdown",
   "metadata": {},
   "source": [
    "# 1. Import Dependencies"
   ]
  },
  {
   "cell_type": "code",
   "execution_count": 1,
   "metadata": {},
   "outputs": [
    {
     "name": "stdout",
     "output_type": "stream",
     "text": [
      "Collecting opencv-python\n",
      "  Obtaining dependency information for opencv-python from https://files.pythonhosted.org/packages/fb/c4/f574ba6f04e6d7bf8c38d23e7a52389566dd7631fee0bcdd79ea07ef2dbf/opencv_python-4.8.0.76-cp37-abi3-win_amd64.whl.metadata\n",
      "  Using cached opencv_python-4.8.0.76-cp37-abi3-win_amd64.whl.metadata (20 kB)\n",
      "Collecting numpy>=1.21.2 (from opencv-python)\n",
      "  Obtaining dependency information for numpy>=1.21.2 from https://files.pythonhosted.org/packages/b7/db/4d37359e2c9cf8bf071c08b8a6f7374648a5ab2e76e2e22e3b808f81d507/numpy-1.25.2-cp310-cp310-win_amd64.whl.metadata\n",
      "  Downloading numpy-1.25.2-cp310-cp310-win_amd64.whl.metadata (5.7 kB)\n",
      "Using cached opencv_python-4.8.0.76-cp37-abi3-win_amd64.whl (38.1 MB)\n",
      "Downloading numpy-1.25.2-cp310-cp310-win_amd64.whl (15.6 MB)\n",
      "   ---------------------------------------- 0.0/15.6 MB ? eta -:--:--\n",
      "   ---------------------------------------- 0.1/15.6 MB 2.2 MB/s eta 0:00:08\n",
      "    --------------------------------------- 0.3/15.6 MB 2.8 MB/s eta 0:00:06\n",
      "   - -------------------------------------- 0.4/15.6 MB 3.3 MB/s eta 0:00:05\n",
      "   - -------------------------------------- 0.5/15.6 MB 2.6 MB/s eta 0:00:06\n",
      "   - -------------------------------------- 0.6/15.6 MB 2.7 MB/s eta 0:00:06\n",
      "   - -------------------------------------- 0.6/15.6 MB 2.6 MB/s eta 0:00:06\n",
      "   - -------------------------------------- 0.7/15.6 MB 2.3 MB/s eta 0:00:07\n",
      "   -- ------------------------------------- 0.8/15.6 MB 2.4 MB/s eta 0:00:07\n",
      "   -- ------------------------------------- 0.9/15.6 MB 2.3 MB/s eta 0:00:07\n",
      "   -- ------------------------------------- 1.0/15.6 MB 2.3 MB/s eta 0:00:07\n",
      "   -- ------------------------------------- 1.1/15.6 MB 2.2 MB/s eta 0:00:07\n",
      "   --- ------------------------------------ 1.2/15.6 MB 2.2 MB/s eta 0:00:07\n",
      "   --- ------------------------------------ 1.3/15.6 MB 2.2 MB/s eta 0:00:07\n",
      "   --- ------------------------------------ 1.4/15.6 MB 2.1 MB/s eta 0:00:07\n",
      "   --- ------------------------------------ 1.5/15.6 MB 2.1 MB/s eta 0:00:07\n",
      "   ---- ----------------------------------- 1.6/15.6 MB 2.1 MB/s eta 0:00:07\n",
      "   ---- ----------------------------------- 1.6/15.6 MB 2.1 MB/s eta 0:00:07\n",
      "   ---- ----------------------------------- 1.7/15.6 MB 2.1 MB/s eta 0:00:07\n",
      "   ---- ----------------------------------- 1.8/15.6 MB 2.1 MB/s eta 0:00:07\n",
      "   ---- ----------------------------------- 1.9/15.6 MB 2.0 MB/s eta 0:00:07\n",
      "   ----- ---------------------------------- 2.0/15.6 MB 2.0 MB/s eta 0:00:07\n",
      "   ----- ---------------------------------- 2.1/15.6 MB 2.0 MB/s eta 0:00:07\n",
      "   ----- ---------------------------------- 2.2/15.6 MB 2.0 MB/s eta 0:00:07\n",
      "   ----- ---------------------------------- 2.2/15.6 MB 2.0 MB/s eta 0:00:07\n",
      "   ----- ---------------------------------- 2.3/15.6 MB 2.0 MB/s eta 0:00:07\n",
      "   ------ --------------------------------- 2.4/15.6 MB 2.0 MB/s eta 0:00:07\n",
      "   ------ --------------------------------- 2.5/15.6 MB 2.0 MB/s eta 0:00:07\n",
      "   ------ --------------------------------- 2.5/15.6 MB 2.0 MB/s eta 0:00:07\n",
      "   ------ --------------------------------- 2.6/15.6 MB 2.0 MB/s eta 0:00:07\n",
      "   ------ --------------------------------- 2.7/15.6 MB 2.0 MB/s eta 0:00:07\n",
      "   ------- -------------------------------- 2.8/15.6 MB 2.0 MB/s eta 0:00:07\n",
      "   ------- -------------------------------- 2.9/15.6 MB 2.0 MB/s eta 0:00:07\n",
      "   ------- -------------------------------- 3.0/15.6 MB 2.0 MB/s eta 0:00:07\n",
      "   ------- -------------------------------- 3.1/15.6 MB 2.0 MB/s eta 0:00:07\n",
      "   -------- ------------------------------- 3.2/15.6 MB 2.0 MB/s eta 0:00:07\n",
      "   -------- ------------------------------- 3.2/15.6 MB 2.0 MB/s eta 0:00:07\n",
      "   -------- ------------------------------- 3.3/15.6 MB 2.0 MB/s eta 0:00:07\n",
      "   -------- ------------------------------- 3.4/15.6 MB 2.0 MB/s eta 0:00:07\n",
      "   --------- ------------------------------ 3.5/15.6 MB 1.9 MB/s eta 0:00:07\n",
      "   --------- ------------------------------ 3.6/15.6 MB 1.9 MB/s eta 0:00:07\n",
      "   --------- ------------------------------ 3.7/15.6 MB 1.9 MB/s eta 0:00:07\n",
      "   --------- ------------------------------ 3.8/15.6 MB 1.9 MB/s eta 0:00:07\n",
      "   --------- ------------------------------ 3.9/15.6 MB 1.9 MB/s eta 0:00:07\n",
      "   ---------- ----------------------------- 3.9/15.6 MB 1.9 MB/s eta 0:00:07\n",
      "   ---------- ----------------------------- 4.0/15.6 MB 1.9 MB/s eta 0:00:06\n",
      "   ---------- ----------------------------- 4.1/15.6 MB 1.9 MB/s eta 0:00:06\n",
      "   ---------- ----------------------------- 4.2/15.6 MB 1.9 MB/s eta 0:00:06\n",
      "   ----------- ---------------------------- 4.3/15.6 MB 1.9 MB/s eta 0:00:06\n",
      "   ----------- ---------------------------- 4.4/15.6 MB 1.9 MB/s eta 0:00:06\n",
      "   ----------- ---------------------------- 4.5/15.6 MB 1.9 MB/s eta 0:00:06\n",
      "   ----------- ---------------------------- 4.5/15.6 MB 1.9 MB/s eta 0:00:06\n",
      "   ----------- ---------------------------- 4.6/15.6 MB 1.9 MB/s eta 0:00:06\n",
      "   ------------ --------------------------- 4.7/15.6 MB 1.9 MB/s eta 0:00:06\n",
      "   ------------ --------------------------- 4.8/15.6 MB 1.9 MB/s eta 0:00:06\n",
      "   ------------ --------------------------- 4.9/15.6 MB 1.9 MB/s eta 0:00:06\n",
      "   ------------ --------------------------- 5.0/15.6 MB 1.9 MB/s eta 0:00:06\n",
      "   ------------- -------------------------- 5.1/15.6 MB 1.9 MB/s eta 0:00:06\n",
      "   ------------- -------------------------- 5.1/15.6 MB 1.9 MB/s eta 0:00:06\n",
      "   ------------- -------------------------- 5.2/15.6 MB 1.9 MB/s eta 0:00:06\n",
      "   ------------- -------------------------- 5.3/15.6 MB 1.9 MB/s eta 0:00:06\n",
      "   ------------- -------------------------- 5.4/15.6 MB 1.9 MB/s eta 0:00:06\n",
      "   -------------- ------------------------- 5.5/15.6 MB 1.9 MB/s eta 0:00:06\n",
      "   -------------- ------------------------- 5.6/15.6 MB 1.9 MB/s eta 0:00:06\n",
      "   -------------- ------------------------- 5.7/15.6 MB 1.9 MB/s eta 0:00:06\n",
      "   -------------- ------------------------- 5.7/15.6 MB 1.9 MB/s eta 0:00:06\n",
      "   -------------- ------------------------- 5.8/15.6 MB 1.9 MB/s eta 0:00:06\n",
      "   --------------- ------------------------ 5.9/15.6 MB 1.9 MB/s eta 0:00:06\n",
      "   --------------- ------------------------ 6.0/15.6 MB 1.9 MB/s eta 0:00:06\n",
      "   --------------- ------------------------ 6.1/15.6 MB 1.9 MB/s eta 0:00:05\n",
      "   --------------- ------------------------ 6.2/15.6 MB 1.9 MB/s eta 0:00:05\n",
      "   ---------------- ----------------------- 6.3/15.6 MB 1.9 MB/s eta 0:00:05\n",
      "   ---------------- ----------------------- 6.3/15.6 MB 1.9 MB/s eta 0:00:05\n",
      "   ---------------- ----------------------- 6.4/15.6 MB 1.9 MB/s eta 0:00:05\n",
      "   ---------------- ----------------------- 6.5/15.6 MB 1.9 MB/s eta 0:00:05\n",
      "   ---------------- ----------------------- 6.6/15.6 MB 1.9 MB/s eta 0:00:05\n",
      "   ----------------- ---------------------- 6.7/15.6 MB 1.9 MB/s eta 0:00:05\n",
      "   ----------------- ---------------------- 6.8/15.6 MB 1.9 MB/s eta 0:00:05\n",
      "   ----------------- ---------------------- 6.9/15.6 MB 1.9 MB/s eta 0:00:05\n",
      "   ----------------- ---------------------- 6.9/15.6 MB 1.9 MB/s eta 0:00:05\n",
      "   ------------------ --------------------- 7.0/15.6 MB 1.9 MB/s eta 0:00:05\n",
      "   ------------------ --------------------- 7.1/15.6 MB 1.9 MB/s eta 0:00:05\n",
      "   ------------------ --------------------- 7.2/15.6 MB 1.9 MB/s eta 0:00:05\n",
      "   ------------------ --------------------- 7.3/15.6 MB 1.9 MB/s eta 0:00:05\n",
      "   ------------------ --------------------- 7.4/15.6 MB 1.9 MB/s eta 0:00:05\n",
      "   ------------------- -------------------- 7.5/15.6 MB 1.9 MB/s eta 0:00:05\n",
      "   ------------------- -------------------- 7.5/15.6 MB 1.9 MB/s eta 0:00:05\n",
      "   ------------------- -------------------- 7.6/15.6 MB 1.9 MB/s eta 0:00:05\n",
      "   ------------------- -------------------- 7.7/15.6 MB 1.9 MB/s eta 0:00:05\n",
      "   -------------------- ------------------- 7.8/15.6 MB 1.9 MB/s eta 0:00:05\n",
      "   -------------------- ------------------- 7.9/15.6 MB 1.9 MB/s eta 0:00:05\n",
      "   -------------------- ------------------- 8.0/15.6 MB 1.9 MB/s eta 0:00:05\n",
      "   -------------------- ------------------- 8.1/15.6 MB 1.9 MB/s eta 0:00:04\n",
      "   -------------------- ------------------- 8.2/15.6 MB 1.9 MB/s eta 0:00:04\n",
      "   --------------------- ------------------ 8.2/15.6 MB 1.9 MB/s eta 0:00:04\n",
      "   --------------------- ------------------ 8.3/15.6 MB 1.9 MB/s eta 0:00:04\n",
      "   --------------------- ------------------ 8.4/15.6 MB 1.9 MB/s eta 0:00:04\n",
      "   --------------------- ------------------ 8.5/15.6 MB 1.9 MB/s eta 0:00:04\n",
      "   ---------------------- ----------------- 8.6/15.6 MB 1.9 MB/s eta 0:00:04\n",
      "   ---------------------- ----------------- 8.7/15.6 MB 1.9 MB/s eta 0:00:04\n",
      "   ---------------------- ----------------- 8.8/15.6 MB 1.9 MB/s eta 0:00:04\n",
      "   ---------------------- ----------------- 8.8/15.6 MB 1.9 MB/s eta 0:00:04\n",
      "   ---------------------- ----------------- 8.9/15.6 MB 1.9 MB/s eta 0:00:04\n",
      "   ----------------------- ---------------- 9.0/15.6 MB 1.9 MB/s eta 0:00:04\n",
      "   ----------------------- ---------------- 9.1/15.6 MB 1.9 MB/s eta 0:00:04\n",
      "   ----------------------- ---------------- 9.2/15.6 MB 1.9 MB/s eta 0:00:04\n",
      "   ----------------------- ---------------- 9.3/15.6 MB 1.9 MB/s eta 0:00:04\n",
      "   ------------------------ --------------- 9.4/15.6 MB 1.9 MB/s eta 0:00:04\n",
      "   ------------------------ --------------- 9.4/15.6 MB 1.9 MB/s eta 0:00:04\n",
      "   ------------------------ --------------- 9.5/15.6 MB 1.9 MB/s eta 0:00:04\n",
      "   ------------------------ --------------- 9.6/15.6 MB 1.9 MB/s eta 0:00:04\n",
      "   ------------------------ --------------- 9.7/15.6 MB 1.9 MB/s eta 0:00:04\n",
      "   ------------------------- -------------- 9.8/15.6 MB 1.9 MB/s eta 0:00:04\n",
      "   ------------------------- -------------- 9.9/15.6 MB 1.9 MB/s eta 0:00:04\n",
      "   ------------------------- -------------- 10.0/15.6 MB 1.9 MB/s eta 0:00:03\n",
      "   ------------------------- -------------- 10.0/15.6 MB 1.9 MB/s eta 0:00:03\n",
      "   -------------------------- ------------- 10.1/15.6 MB 1.9 MB/s eta 0:00:03\n",
      "   -------------------------- ------------- 10.2/15.6 MB 1.9 MB/s eta 0:00:03\n",
      "   -------------------------- ------------- 10.3/15.6 MB 1.9 MB/s eta 0:00:03\n",
      "   -------------------------- ------------- 10.3/15.6 MB 1.9 MB/s eta 0:00:03\n",
      "   -------------------------- ------------- 10.5/15.6 MB 1.9 MB/s eta 0:00:03\n",
      "   --------------------------- ------------ 10.5/15.6 MB 1.9 MB/s eta 0:00:03\n",
      "   --------------------------- ------------ 10.6/15.6 MB 1.8 MB/s eta 0:00:03\n",
      "   --------------------------- ------------ 10.7/15.6 MB 1.9 MB/s eta 0:00:03\n",
      "   --------------------------- ------------ 10.8/15.6 MB 1.8 MB/s eta 0:00:03\n",
      "   ---------------------------- ----------- 10.9/15.6 MB 1.9 MB/s eta 0:00:03\n",
      "   ---------------------------- ----------- 11.0/15.6 MB 1.9 MB/s eta 0:00:03\n",
      "   ---------------------------- ----------- 11.1/15.6 MB 1.9 MB/s eta 0:00:03\n",
      "   ---------------------------- ----------- 11.2/15.6 MB 1.9 MB/s eta 0:00:03\n",
      "   ---------------------------- ----------- 11.3/15.6 MB 1.8 MB/s eta 0:00:03\n",
      "   ----------------------------- ---------- 11.3/15.6 MB 1.8 MB/s eta 0:00:03\n",
      "   ----------------------------- ---------- 11.4/15.6 MB 1.8 MB/s eta 0:00:03\n",
      "   ----------------------------- ---------- 11.5/15.6 MB 1.8 MB/s eta 0:00:03\n",
      "   ----------------------------- ---------- 11.6/15.6 MB 1.9 MB/s eta 0:00:03\n",
      "   ----------------------------- ---------- 11.7/15.6 MB 1.8 MB/s eta 0:00:03\n",
      "   ------------------------------ --------- 11.8/15.6 MB 1.8 MB/s eta 0:00:03\n",
      "   ------------------------------ --------- 11.8/15.6 MB 1.8 MB/s eta 0:00:03\n",
      "   ------------------------------ --------- 11.9/15.6 MB 1.8 MB/s eta 0:00:02\n",
      "   ------------------------------ --------- 12.0/15.6 MB 1.8 MB/s eta 0:00:02\n",
      "   ------------------------------- -------- 12.1/15.6 MB 1.8 MB/s eta 0:00:02\n",
      "   ------------------------------- -------- 12.2/15.6 MB 1.8 MB/s eta 0:00:02\n",
      "   ------------------------------- -------- 12.3/15.6 MB 1.8 MB/s eta 0:00:02\n",
      "   ------------------------------- -------- 12.3/15.6 MB 1.8 MB/s eta 0:00:02\n",
      "   -------------------------------- ------- 12.5/15.6 MB 1.8 MB/s eta 0:00:02\n",
      "   -------------------------------- ------- 12.5/15.6 MB 1.9 MB/s eta 0:00:02\n",
      "   -------------------------------- ------- 12.6/15.6 MB 1.9 MB/s eta 0:00:02\n",
      "   -------------------------------- ------- 12.7/15.6 MB 1.8 MB/s eta 0:00:02\n",
      "   -------------------------------- ------- 12.8/15.6 MB 1.9 MB/s eta 0:00:02\n",
      "   --------------------------------- ------ 12.9/15.6 MB 1.8 MB/s eta 0:00:02\n",
      "   --------------------------------- ------ 13.0/15.6 MB 1.9 MB/s eta 0:00:02\n",
      "   --------------------------------- ------ 13.0/15.6 MB 1.8 MB/s eta 0:00:02\n",
      "   --------------------------------- ------ 13.1/15.6 MB 1.8 MB/s eta 0:00:02\n",
      "   --------------------------------- ------ 13.2/15.6 MB 1.8 MB/s eta 0:00:02\n",
      "   ---------------------------------- ----- 13.3/15.6 MB 1.8 MB/s eta 0:00:02\n",
      "   ---------------------------------- ----- 13.4/15.6 MB 1.8 MB/s eta 0:00:02\n",
      "   ---------------------------------- ----- 13.4/15.6 MB 1.8 MB/s eta 0:00:02\n",
      "   ---------------------------------- ----- 13.6/15.6 MB 1.8 MB/s eta 0:00:02\n",
      "   ----------------------------------- ---- 13.6/15.6 MB 1.8 MB/s eta 0:00:02\n",
      "   ----------------------------------- ---- 13.7/15.6 MB 1.8 MB/s eta 0:00:01\n",
      "   ----------------------------------- ---- 13.8/15.6 MB 1.8 MB/s eta 0:00:01\n",
      "   ----------------------------------- ---- 13.9/15.6 MB 1.8 MB/s eta 0:00:01\n",
      "   ----------------------------------- ---- 14.0/15.6 MB 1.8 MB/s eta 0:00:01\n",
      "   ------------------------------------ --- 14.1/15.6 MB 1.8 MB/s eta 0:00:01\n",
      "   ------------------------------------ --- 14.2/15.6 MB 1.8 MB/s eta 0:00:01\n",
      "   ------------------------------------ --- 14.2/15.6 MB 1.8 MB/s eta 0:00:01\n",
      "   ------------------------------------ --- 14.3/15.6 MB 1.8 MB/s eta 0:00:01\n",
      "   ------------------------------------- -- 14.4/15.6 MB 1.8 MB/s eta 0:00:01\n",
      "   ------------------------------------- -- 14.5/15.6 MB 1.8 MB/s eta 0:00:01\n",
      "   ------------------------------------- -- 14.6/15.6 MB 1.8 MB/s eta 0:00:01\n",
      "   ------------------------------------- -- 14.7/15.6 MB 1.8 MB/s eta 0:00:01\n",
      "   ------------------------------------- -- 14.8/15.6 MB 1.8 MB/s eta 0:00:01\n",
      "   -------------------------------------- - 14.8/15.6 MB 1.8 MB/s eta 0:00:01\n",
      "   -------------------------------------- - 14.9/15.6 MB 1.8 MB/s eta 0:00:01\n",
      "   -------------------------------------- - 15.0/15.6 MB 1.8 MB/s eta 0:00:01\n",
      "   -------------------------------------- - 15.1/15.6 MB 1.9 MB/s eta 0:00:01\n",
      "   ---------------------------------------  15.2/15.6 MB 1.8 MB/s eta 0:00:01\n",
      "   ---------------------------------------  15.3/15.6 MB 1.8 MB/s eta 0:00:01\n",
      "   ---------------------------------------  15.3/15.6 MB 1.8 MB/s eta 0:00:01\n",
      "   ---------------------------------------  15.5/15.6 MB 1.8 MB/s eta 0:00:01\n",
      "   ---------------------------------------  15.5/15.6 MB 1.9 MB/s eta 0:00:01\n",
      "   ---------------------------------------  15.6/15.6 MB 1.8 MB/s eta 0:00:01\n",
      "   ---------------------------------------  15.6/15.6 MB 1.8 MB/s eta 0:00:01\n",
      "   ---------------------------------------- 15.6/15.6 MB 1.8 MB/s eta 0:00:00\n",
      "Installing collected packages: numpy, opencv-python\n",
      "Successfully installed numpy-1.25.2 opencv-python-4.8.0.76\n"
     ]
    }
   ],
   "source": [
    "!pip install opencv-python"
   ]
  },
  {
   "cell_type": "code",
   "execution_count": 2,
   "metadata": {},
   "outputs": [],
   "source": [
    "# Import opencv\n",
    "import cv2 \n",
    "\n",
    "# Import uuid\n",
    "import uuid\n",
    "\n",
    "# Import Operating System\n",
    "import os\n",
    "\n",
    "# Import time\n",
    "import time"
   ]
  },
  {
   "cell_type": "markdown",
   "metadata": {},
   "source": [
    "# 2. Define Images to Collect"
   ]
  },
  {
   "cell_type": "code",
   "execution_count": 3,
   "metadata": {},
   "outputs": [],
   "source": [
    "labels = ['thumbsup', 'thumbsdown', 'thankyou', 'livelong']\n",
    "number_imgs = 5"
   ]
  },
  {
   "cell_type": "markdown",
   "metadata": {},
   "source": [
    "# 3. Setup Folders "
   ]
  },
  {
   "cell_type": "code",
   "execution_count": 4,
   "metadata": {},
   "outputs": [],
   "source": [
    "IMAGES_PATH = os.path.join('Tensorflow', 'workspace', 'images', 'collectedimages')"
   ]
  },
  {
   "cell_type": "code",
   "execution_count": 5,
   "metadata": {},
   "outputs": [],
   "source": [
    "if not os.path.exists(IMAGES_PATH):\n",
    "    if os.name == 'posix':\n",
    "        !mkdir -p {IMAGES_PATH}\n",
    "    if os.name == 'nt':\n",
    "         !mkdir {IMAGES_PATH}\n",
    "for label in labels:\n",
    "    path = os.path.join(IMAGES_PATH, label)\n",
    "    if not os.path.exists(path):\n",
    "        !mkdir {path}"
   ]
  },
  {
   "cell_type": "markdown",
   "metadata": {},
   "source": [
    "# 4. Capture Images"
   ]
  },
  {
   "cell_type": "code",
   "execution_count": 6,
   "metadata": {},
   "outputs": [
    {
     "name": "stdout",
     "output_type": "stream",
     "text": [
      "Collecting images for thumbsup\n",
      "Collecting image 0\n",
      "Collecting image 1\n",
      "Collecting image 2\n",
      "Collecting image 3\n",
      "Collecting image 4\n",
      "Collecting images for thumbsdown\n",
      "Collecting image 0\n",
      "Collecting image 1\n",
      "Collecting image 2\n",
      "Collecting image 3\n",
      "Collecting image 4\n",
      "Collecting images for thankyou\n",
      "Collecting image 0\n",
      "Collecting image 1\n",
      "Collecting image 2\n",
      "Collecting image 3\n",
      "Collecting image 4\n",
      "Collecting images for livelong\n",
      "Collecting image 0\n",
      "Collecting image 1\n",
      "Collecting image 2\n",
      "Collecting image 3\n",
      "Collecting image 4\n"
     ]
    }
   ],
   "source": [
    "for label in labels:\n",
    "    cap = cv2.VideoCapture(0)\n",
    "    print('Collecting images for {}'.format(label))\n",
    "    time.sleep(5)\n",
    "    for imgnum in range(number_imgs):\n",
    "        print('Collecting image {}'.format(imgnum))\n",
    "        ret, frame = cap.read()\n",
    "        imgname = os.path.join(IMAGES_PATH,label,label+'.'+'{}.jpg'.format(str(uuid.uuid1())))\n",
    "        cv2.imwrite(imgname, frame)\n",
    "        cv2.imshow('frame', frame)\n",
    "        time.sleep(3)\n",
    "\n",
    "        if cv2.waitKey(1) & 0xFF == ord('q'):\n",
    "            break\n",
    "cap.release()\n",
    "cv2.destroyAllWindows()"
   ]
  },
  {
   "cell_type": "markdown",
   "metadata": {},
   "source": [
    "# 5. Image Labelling"
   ]
  },
  {
   "cell_type": "code",
   "execution_count": 7,
   "metadata": {},
   "outputs": [
    {
     "name": "stdout",
     "output_type": "stream",
     "text": [
      "Collecting pyqt5\n",
      "  Downloading PyQt5-5.15.9-cp37-abi3-win_amd64.whl (6.8 MB)\n",
      "     ---------------------------------------- 6.8/6.8 MB 1.4 MB/s eta 0:00:00\n",
      "Collecting lxml\n",
      "  Obtaining dependency information for lxml from https://files.pythonhosted.org/packages/8d/cd/85172c7528ff46c48513ec882614073ad0746a65e2df7bc7a0fb6b3bbabe/lxml-4.9.3-cp37-cp37m-win_amd64.whl.metadata\n",
      "  Downloading lxml-4.9.3-cp37-cp37m-win_amd64.whl.metadata (3.8 kB)\n",
      "Collecting PyQt5-sip<13,>=12.11 (from pyqt5)\n",
      "  Obtaining dependency information for PyQt5-sip<13,>=12.11 from https://files.pythonhosted.org/packages/32/0d/3bb915cb1c6c59f408312df7059a62e3a0802092fd3afa58818f5330b8b1/PyQt5_sip-12.12.2-cp37-cp37m-win_amd64.whl.metadata\n",
      "  Downloading PyQt5_sip-12.12.2-cp37-cp37m-win_amd64.whl.metadata (524 bytes)\n",
      "Collecting PyQt5-Qt5>=5.15.2 (from pyqt5)\n",
      "  Downloading PyQt5_Qt5-5.15.2-py3-none-win_amd64.whl (50.1 MB)\n",
      "     ---------------------------------------- 50.1/50.1 MB 1.6 MB/s eta 0:00:00\n",
      "Downloading lxml-4.9.3-cp37-cp37m-win_amd64.whl (3.9 MB)\n",
      "   ---------------------------------------- 3.9/3.9 MB 1.7 MB/s eta 0:00:00\n",
      "Downloading PyQt5_sip-12.12.2-cp37-cp37m-win_amd64.whl (77 kB)\n",
      "   ---------------------------------------- 77.6/77.6 kB 2.2 MB/s eta 0:00:00\n",
      "Installing collected packages: PyQt5-Qt5, PyQt5-sip, lxml, pyqt5\n",
      "Successfully installed PyQt5-Qt5-5.15.2 PyQt5-sip-12.12.2 lxml-4.9.3 pyqt5-5.15.9\n"
     ]
    }
   ],
   "source": [
    "!pip install --upgrade pyqt5 lxml"
   ]
  },
  {
   "cell_type": "code",
   "execution_count": 8,
   "metadata": {},
   "outputs": [],
   "source": [
    "LABELIMG_PATH = os.path.join('Tensorflow', 'labelimg')"
   ]
  },
  {
   "cell_type": "code",
   "execution_count": 9,
   "metadata": {},
   "outputs": [
    {
     "name": "stderr",
     "output_type": "stream",
     "text": [
      "Cloning into 'Tensorflow\\labelimg'...\n"
     ]
    }
   ],
   "source": [
    "if not os.path.exists(LABELIMG_PATH):\n",
    "    !mkdir {LABELIMG_PATH}\n",
    "    !git clone https://github.com/tzutalin/labelImg {LABELIMG_PATH}"
   ]
  },
  {
   "cell_type": "code",
   "execution_count": 10,
   "metadata": {},
   "outputs": [],
   "source": [
    "if os.name == 'posix':\n",
    "    !make qt5py3\n",
    "if os.name =='nt':\n",
    "    !cd {LABELIMG_PATH} && pyrcc5 -o libs/resources.py resources.qrc"
   ]
  },
  {
   "cell_type": "code",
   "execution_count": 11,
   "metadata": {},
   "outputs": [
    {
     "name": "stdout",
     "output_type": "stream",
     "text": [
      "Image:C:\\Users\\sarve\\Documents\\Tensorflow Object Detection\\TFODCourse\\Tensorflow\\workspace\\images\\collectedimages\\livelong\\livelong.7a1519a4-3b62-11ee-8f9d-cd812860a784.jpg -> Annotation:C:/Users/sarve/Documents/Tensorflow Object Detection/TFODCourse/Tensorflow/workspace/images/collectedimages/livelong\\livelong.7a1519a4-3b62-11ee-8f9d-cd812860a784.xml\n",
      "Cancel creation.\n",
      "Cancel creation.\n",
      "Image:C:\\Users\\sarve\\Documents\\Tensorflow Object Detection\\TFODCourse\\Tensorflow\\workspace\\images\\collectedimages\\livelong\\livelong.7be392e6-3b62-11ee-bc2a-cd812860a784.jpg -> Annotation:C:/Users/sarve/Documents/Tensorflow Object Detection/TFODCourse/Tensorflow/workspace/images/collectedimages/livelong\\livelong.7be392e6-3b62-11ee-bc2a-cd812860a784.xml\n",
      "Cancel creation.\n",
      "Image:C:\\Users\\sarve\\Documents\\Tensorflow Object Detection\\TFODCourse\\Tensorflow\\workspace\\images\\collectedimages\\livelong\\livelong.7c.jpg -> Annotation:C:/Users/sarve/Documents/Tensorflow Object Detection/TFODCourse/Tensorflow/workspace/images/collectedimages/livelong\\livelong.7c.xml\n",
      "Image:C:\\Users\\sarve\\Documents\\Tensorflow Object Detection\\TFODCourse\\Tensorflow\\workspace\\images\\collectedimages\\livelong\\livelong.7db11dc2-3b62-11ee-b797-cd812860a784.jpg -> Annotation:C:/Users/sarve/Documents/Tensorflow Object Detection/TFODCourse/Tensorflow/workspace/images/collectedimages/livelong\\livelong.7db11dc2-3b62-11ee-b797-cd812860a784.xml\n",
      "Image:C:\\Users\\sarve\\Documents\\Tensorflow Object Detection\\TFODCourse\\Tensorflow\\workspace\\images\\collectedimages\\livelong\\livelong.784675a2-3b62-11ee-b740-cd812860a784.jpg -> Annotation:C:/Users/sarve/Documents/Tensorflow Object Detection/TFODCourse/Tensorflow/workspace/images/collectedimages/livelong\\livelong.784675a2-3b62-11ee-b740-cd812860a784.xml\n",
      "ESC press\n",
      "Cancel creation.\n",
      "Image:C:\\Users\\sarve\\Documents\\Tensorflow Object Detection\\TFODCourse\\Tensorflow\\workspace\\images\\collectedimages\\thankyou\\thankyou.6a06da0a-3b62-11ee-a437-cd812860a784.jpg -> Annotation:C:/Users/sarve/Documents/Tensorflow Object Detection/TFODCourse/Tensorflow/workspace/images/collectedimages/thankyou\\thankyou.6a06da0a-3b62-11ee-a437-cd812860a784.xml\n",
      "Cancel creation.\n",
      "Cancel creation.\n",
      "Cancel creation.\n",
      "Cancel creation.\n",
      "Cancel creation.\n",
      "Cancel creation.\n",
      "Cancel creation.\n",
      "Image:C:\\Users\\sarve\\Documents\\Tensorflow Object Detection\\TFODCourse\\Tensorflow\\workspace\\images\\collectedimages\\thankyou\\thankyou.6bd44dfa-3b62-11ee-977a-cd812860a784.jpg -> Annotation:C:/Users/sarve/Documents/Tensorflow Object Detection/TFODCourse/Tensorflow/workspace/images/collectedimages/thankyou\\thankyou.6bd44dfa-3b62-11ee-977a-cd812860a784.xml\n",
      "Cancel creation.\n",
      "Cancel creation.\n",
      "Cancel creation.\n",
      "Cancel creation.\n",
      "Cancel creation.\n",
      "Image:C:\\Users\\sarve\\Documents\\Tensorflow Object Detection\\TFODCourse\\Tensorflow\\workspace\\images\\collectedimages\\thankyou\\thankyou.6da2ca40-3b62-11ee-8020-cd812860a784.jpg -> Annotation:C:/Users/sarve/Documents/Tensorflow Object Detection/TFODCourse/Tensorflow/workspace/images/collectedimages/thankyou\\thankyou.6da2ca40-3b62-11ee-8020-cd812860a784.xml\n",
      "Cancel creation.\n",
      "Image:C:\\Users\\sarve\\Documents\\Tensorflow Object Detection\\TFODCourse\\Tensorflow\\workspace\\images\\collectedimages\\thankyou\\thankyou.6f70df8c-3b62-11ee-b7f5-cd812860a784.jpg -> Annotation:C:/Users/sarve/Documents/Tensorflow Object Detection/TFODCourse/Tensorflow/workspace/images/collectedimages/thankyou\\thankyou.6f70df8c-3b62-11ee-b7f5-cd812860a784.xml\n",
      "Image:C:\\Users\\sarve\\Documents\\Tensorflow Object Detection\\TFODCourse\\Tensorflow\\workspace\\images\\collectedimages\\thankyou\\thankyou.713f0a26-3b62-11ee-b5fa-cd812860a784.jpg -> Annotation:C:/Users/sarve/Documents/Tensorflow Object Detection/TFODCourse/Tensorflow/workspace/images/collectedimages/thankyou\\thankyou.713f0a26-3b62-11ee-b5fa-cd812860a784.xml\n",
      "Cancel creation.\n",
      "Cancel creation.\n",
      "Cancel creation.\n",
      "Image:C:\\Users\\sarve\\Documents\\Tensorflow Object Detection\\TFODCourse\\Tensorflow\\workspace\\images\\collectedimages\\thumbsdown\\thumbsdown.5d9c5dac-3b62-11ee-a804-cd812860a784.jpg -> Annotation:C:/Users/sarve/Documents/Tensorflow Object Detection/TFODCourse/Tensorflow/workspace/images/collectedimages/thumbsdown\\thumbsdown.5d9c5dac-3b62-11ee-a804-cd812860a784.xml\n",
      "Image:C:\\Users\\sarve\\Documents\\Tensorflow Object Detection\\TFODCourse\\Tensorflow\\workspace\\images\\collectedimages\\thumbsdown\\thumbsdown.5f69d1a8-3b62-11ee-8e41-cd812860a784.jpg -> Annotation:C:/Users/sarve/Documents/Tensorflow Object Detection/TFODCourse/Tensorflow/workspace/images/collectedimages/thumbsdown\\thumbsdown.5f69d1a8-3b62-11ee-8e41-cd812860a784.xml\n",
      "Image:C:\\Users\\sarve\\Documents\\Tensorflow Object Detection\\TFODCourse\\Tensorflow\\workspace\\images\\collectedimages\\thumbsdown\\thumbsdown.64d1e33e-3b62-11ee-a7ea-cd812860a784.jpg -> Annotation:C:/Users/sarve/Documents/Tensorflow Object Detection/TFODCourse/Tensorflow/workspace/images/collectedimages/thumbsdown\\thumbsdown.64d1e33e-3b62-11ee-a7ea-cd812860a784.xml\n",
      "Cancel creation.\n",
      "Image:C:\\Users\\sarve\\Documents\\Tensorflow Object Detection\\TFODCourse\\Tensorflow\\workspace\\images\\collectedimages\\thumbsdown\\thumbsdown.61375cc6-3b62-11ee-89c3-cd812860a784.jpg -> Annotation:C:/Users/sarve/Documents/Tensorflow Object Detection/TFODCourse/Tensorflow/workspace/images/collectedimages/thumbsdown\\thumbsdown.61375cc6-3b62-11ee-89c3-cd812860a784.xml\n",
      "Image:C:\\Users\\sarve\\Documents\\Tensorflow Object Detection\\TFODCourse\\Tensorflow\\workspace\\images\\collectedimages\\thumbsdown\\thumbsdown.630465de-3b62-11ee-99cc-cd812860a784.jpg -> Annotation:C:/Users/sarve/Documents/Tensorflow Object Detection/TFODCourse/Tensorflow/workspace/images/collectedimages/thumbsdown\\thumbsdown.630465de-3b62-11ee-99cc-cd812860a784.xml\n",
      "Cancel creation.\n",
      "Image:C:\\Users\\sarve\\Documents\\Tensorflow Object Detection\\TFODCourse\\Tensorflow\\workspace\\images\\collectedimages\\thumbsup\\thumbsup.52f2ab4c-3b62-11ee-8057-cd812860a784.jpg -> Annotation:C:/Users/sarve/Documents/Tensorflow Object Detection/TFODCourse/Tensorflow/workspace/images/collectedimages/thumbsup\\thumbsup.52f2ab4c-3b62-11ee-8057-cd812860a784.xml\n",
      "Image:C:\\Users\\sarve\\Documents\\Tensorflow Object Detection\\TFODCourse\\Tensorflow\\workspace\\images\\collectedimages\\thumbsup\\thumbsup.511e460a-3b62-11ee-a3a7-cd812860a784.jpg -> Annotation:C:/Users/sarve/Documents/Tensorflow Object Detection/TFODCourse/Tensorflow/workspace/images/collectedimages/thumbsup\\thumbsup.511e460a-3b62-11ee-a3a7-cd812860a784.xml\n",
      "Image:C:\\Users\\sarve\\Documents\\Tensorflow Object Detection\\TFODCourse\\Tensorflow\\workspace\\images\\collectedimages\\thumbsup\\thumbsup.568d8652-3b62-11ee-b9be-cd812860a784.jpg -> Annotation:C:/Users/sarve/Documents/Tensorflow Object Detection/TFODCourse/Tensorflow/workspace/images/collectedimages/thumbsup\\thumbsup.568d8652-3b62-11ee-b9be-cd812860a784.xml\n",
      "Image:C:\\Users\\sarve\\Documents\\Tensorflow Object Detection\\TFODCourse\\Tensorflow\\workspace\\images\\collectedimages\\thumbsup\\thumbsup.58593676-3b62-11ee-a4fe-cd812860a784.jpg -> Annotation:C:/Users/sarve/Documents/Tensorflow Object Detection/TFODCourse/Tensorflow/workspace/images/collectedimages/thumbsup\\thumbsup.58593676-3b62-11ee-a4fe-cd812860a784.xml\n"
     ]
    }
   ],
   "source": [
    "!cd {LABELIMG_PATH} && python labelImg.py"
   ]
  },
  {
   "cell_type": "markdown",
   "metadata": {},
   "source": [
    "# 6. Move them into a Training and Testing Partition"
   ]
  },
  {
   "cell_type": "markdown",
   "metadata": {},
   "source": [
    "# OPTIONAL - 7. Compress them for Colab Training"
   ]
  },
  {
   "cell_type": "code",
   "execution_count": 20,
   "metadata": {},
   "outputs": [],
   "source": [
    "TRAIN_PATH = os.path.join('Tensorflow', 'workspace', 'images', 'train')\n",
    "TEST_PATH =  ffos.path.join('Tensorflow', 'workspace', 'images', 'test')\n",
    "ARCHIVE_PATH = os.path.join('Tensorflow', 'workspace', 'images', 'archive.tar.gz')"
   ]
  },
  {
   "cell_type": "code",
   "execution_count": 21,
   "metadata": {},
   "outputs": [],
   "source": [
    "!tar -czf {ARCHIVE_PATH} {TRAIN_PATH} {TEST_PATH}"
   ]
  },
  {
   "cell_type": "code",
   "execution_count": null,
   "metadata": {},
   "outputs": [],
   "source": []
  }
 ],
 "metadata": {
  "kernelspec": {
   "display_name": "tfod",
   "language": "python",
   "name": "tfod"
  },
  "language_info": {
   "codemirror_mode": {
    "name": "ipython",
    "version": 3
   },
   "file_extension": ".py",
   "mimetype": "text/x-python",
   "name": "python",
   "nbconvert_exporter": "python",
   "pygments_lexer": "ipython3",
   "version": "3.10.9"
  }
 },
 "nbformat": 4,
 "nbformat_minor": 2
}
